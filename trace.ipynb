{
 "cells": [
  {
   "cell_type": "code",
   "execution_count": null,
   "metadata": {},
   "outputs": [],
   "source": []
  },
  {
   "cell_type": "code",
   "execution_count": 1,
   "metadata": {},
   "outputs": [
    {
     "name": "stderr",
     "output_type": "stream",
     "text": [
      "/tmp/ipykernel_117766/4127279651.py:14: SettingWithCopyWarning: \n",
      "A value is trying to be set on a copy of a slice from a DataFrame.\n",
      "Try using .loc[row_indexer,col_indexer] = value instead\n",
      "\n",
      "See the caveats in the documentation: https://pandas.pydata.org/pandas-docs/stable/user_guide/indexing.html#returning-a-view-versus-a-copy\n",
      "  unique_prompts['llm'] = random.choices(llm, k=unique_prompts.shape[0])\n"
     ]
    }
   ],
   "source": [
    "import pandas as pd\n",
    "data = pd.read_csv(\"filtered_prompt_data.csv\")\n",
    "azureData = pd.read_csv(\"AzureLLMInferenceTrace_conv.csv\")\n",
    "data['prompt_length'] = data['prompt'].apply(lambda x: len(x))\n",
    "data['prompt_length'] = data['prompt_length'].astype(int)\n",
    "azureData['ContextTokens'] = azureData['ContextTokens'].astype(int)\n",
    "\n",
    "merged = data.merge(azureData, left_on='prompt_length', right_on='ContextTokens', how='inner')\n",
    "merged.to_csv(\"merged_data.csv\")\n",
    "unique_prompts = merged.drop_duplicates(subset='prompt')\n",
    "unique_prompts.head()\n",
    "import random\n",
    "llm = ['gpt-2', 'gemma-2b', 'llama-2-7b-chat-hf', 'mistral-7b-instruct']\n",
    "unique_prompts['llm'] = random.choices(llm, k=unique_prompts.shape[0])\n",
    "unique_prompts.reset_index(drop=True, inplace=True)\n",
    "unique_prompts.head()\n",
    "unique_prompts.to_csv(\"unique_labeled_prompts.csv\")"
   ]
  }
 ],
 "metadata": {
  "kernelspec": {
   "display_name": "ray",
   "language": "python",
   "name": "python3"
  },
  "language_info": {
   "codemirror_mode": {
    "name": "ipython",
    "version": 3
   },
   "file_extension": ".py",
   "mimetype": "text/x-python",
   "name": "python",
   "nbconvert_exporter": "python",
   "pygments_lexer": "ipython3",
   "version": "3.9.18"
  }
 },
 "nbformat": 4,
 "nbformat_minor": 2
}
